{
 "cells": [
  {
   "cell_type": "code",
   "execution_count": 91,
   "metadata": {},
   "outputs": [],
   "source": [
    "import pandas as pd\n",
    "import numpy as np\n",
    "import os\n",
    "import re\n",
    "import emoji\n",
    "\n",
    "from sklearn.model_selection import train_test_split\n",
    "\n",
    "raw_path = '../data/raw/'\n",
    "processed_path = '../data/processed'"
   ]
  },
  {
   "cell_type": "code",
   "execution_count": 92,
   "metadata": {},
   "outputs": [],
   "source": [
    "ishate_path = os.path.join(raw_path, 'ishate')\n",
    "ihc_path = os.path.join(raw_path, 'ihc')"
   ]
  },
  {
   "cell_type": "markdown",
   "metadata": {},
   "source": [
    "## ISHate"
   ]
  },
  {
   "cell_type": "code",
   "execution_count": 93,
   "metadata": {},
   "outputs": [],
   "source": [
    "def none_to_str(val):\n",
    "    if not val:\n",
    "        return \"Not HS\"\n",
    "    \n",
    "    return val"
   ]
  },
  {
   "cell_type": "code",
   "execution_count": 94,
   "metadata": {},
   "outputs": [],
   "source": [
    "def encode_labels(val):\n",
    "    if val == \"Not HS\":\n",
    "        return 0\n",
    "    elif val == \"Explicit HS\":\n",
    "        return 1\n",
    "    elif val == \"Implicit HS\":\n",
    "        return 2"
   ]
  },
  {
   "cell_type": "code",
   "execution_count": 95,
   "metadata": {},
   "outputs": [],
   "source": [
    "# remove usernames, urls, tags, and extra whitespace. Cast everything to lowercase\n",
    "def clean_text(text):\n",
    "    cleaned = text\n",
    "    cleaned = re.sub(r'#([^ ]*)', r'\\1', cleaned)\n",
    "    cleaned = re.sub(r'https.*[^ ]', 'URL', cleaned)\n",
    "    cleaned = re.sub(r'http.*[^ ]', 'URL', cleaned)\n",
    "    cleaned = re.sub(r'@([^ ]*)', '@USER', cleaned)\n",
    "    cleaned = emoji.demojize(cleaned)\n",
    "    cleaned = re.sub(r'(:.*?:)', r' \\1 ', cleaned)\n",
    "    cleaned = re.sub(' +', ' ', cleaned)\n",
    "    cleaned = cleaned.lower()\n",
    "\n",
    "    return cleaned"
   ]
  },
  {
   "cell_type": "code",
   "execution_count": 96,
   "metadata": {},
   "outputs": [
    {
     "name": "stdout",
     "output_type": "stream",
     "text": [
      "ishate/ishate_train.csv\n",
      "count    20381.000000\n",
      "mean     10190.000000\n",
      "std       5883.632254\n",
      "min          0.000000\n",
      "25%       5095.000000\n",
      "50%      10190.000000\n",
      "75%      15285.000000\n",
      "max      20380.000000\n",
      "Name: id, dtype: float64\n",
      "ishate/ishate_val.csv\n",
      "count     4367.000000\n",
      "mean     22564.000000\n",
      "std       1260.788642\n",
      "min      20381.000000\n",
      "25%      21472.500000\n",
      "50%      22564.000000\n",
      "75%      23655.500000\n",
      "max      24747.000000\n",
      "Name: id, dtype: float64\n",
      "ishate/ishate_test.csv\n",
      "count     4368.000000\n",
      "mean     26931.500000\n",
      "std       1261.077317\n",
      "min      24748.000000\n",
      "25%      25839.750000\n",
      "50%      26931.500000\n",
      "75%      28023.250000\n",
      "max      29115.000000\n",
      "Name: id, dtype: float64\n"
     ]
    }
   ],
   "source": [
    "start, stop = 0, 0\n",
    "\n",
    "splits = ['train', 'val', 'test']\n",
    "\n",
    "for split in splits:\n",
    "\n",
    "    df_path = os.path.join(ishate_path, f'ishate_{split}.parquet.gzip')\n",
    "    df = pd.read_parquet(df_path)\n",
    "\n",
    "    stop += df.shape[0]\n",
    "    df['id'] = range(start, stop)\n",
    "    start += df.shape[0]\n",
    "\n",
    "    df['label_name'] = df['implicit_layer'].apply(none_to_str)\n",
    "    df['label'] = df['label_name'].apply(encode_labels)\n",
    "    df['cleaned_text'] = df['text'].apply(clean_text)\n",
    "    df = df[['id', 'text', 'cleaned_text', 'label_name', 'label']]\n",
    "    # df.insert(0, 'id', df.index)\n",
    "    \n",
    "    save_path = f'ishate/ishate_{split}.csv'\n",
    "    print(save_path)\n",
    "\n",
    "    df.to_csv(os.path.join(processed_path, save_path), index=False)\n",
    "    print(df['id'].describe())"
   ]
  },
  {
   "cell_type": "markdown",
   "metadata": {},
   "source": [
    "## Implicit Hate Corpus"
   ]
  },
  {
   "cell_type": "code",
   "execution_count": 97,
   "metadata": {},
   "outputs": [],
   "source": [
    "def normalize_labels(val):\n",
    "    if val == \"not_hate\":\n",
    "        return \"Not HS\"\n",
    "    elif val == \"implicit_hate\":\n",
    "        return \"Implicit HS\"\n",
    "    elif val == \"explicit_hate\":\n",
    "        return \"Explicit HS\""
   ]
  },
  {
   "cell_type": "code",
   "execution_count": 98,
   "metadata": {},
   "outputs": [
    {
     "name": "stdout",
     "output_type": "stream",
     "text": [
      "(21480, 2)\n"
     ]
    }
   ],
   "source": [
    "ihc = pd.read_csv(os.path.join(ihc_path, 'implicit_hate_v1_stg1_posts.tsv'), sep='\\t')\n",
    "\n",
    "print(ihc.shape)\n",
    "ihc['label_name'] = ihc['class'].apply(normalize_labels)\n",
    "ihc['label'] = ihc['label_name'].apply(encode_labels)\n",
    "ihc['text'] = ihc['post']\n",
    "\n",
    "train, val_test = train_test_split(ihc, test_size=0.3, random_state=42, stratify=ihc['label'], shuffle=True)\n",
    "\n",
    "val, test = train_test_split(val_test, test_size=0.5, random_state=42, stratify=val_test['label'], shuffle=True)"
   ]
  },
  {
   "cell_type": "code",
   "execution_count": 99,
   "metadata": {},
   "outputs": [
    {
     "data": {
      "text/html": [
       "<div>\n",
       "<style scoped>\n",
       "    .dataframe tbody tr th:only-of-type {\n",
       "        vertical-align: middle;\n",
       "    }\n",
       "\n",
       "    .dataframe tbody tr th {\n",
       "        vertical-align: top;\n",
       "    }\n",
       "\n",
       "    .dataframe thead th {\n",
       "        text-align: right;\n",
       "    }\n",
       "</style>\n",
       "<table border=\"1\" class=\"dataframe\">\n",
       "  <thead>\n",
       "    <tr style=\"text-align: right;\">\n",
       "      <th>label</th>\n",
       "      <th>0</th>\n",
       "      <th>2</th>\n",
       "      <th>1</th>\n",
       "    </tr>\n",
       "  </thead>\n",
       "  <tbody>\n",
       "    <tr>\n",
       "      <th>count</th>\n",
       "      <td>9304</td>\n",
       "      <td>4970</td>\n",
       "      <td>762</td>\n",
       "    </tr>\n",
       "    <tr>\n",
       "      <th>count</th>\n",
       "      <td>1994</td>\n",
       "      <td>1065</td>\n",
       "      <td>163</td>\n",
       "    </tr>\n",
       "    <tr>\n",
       "      <th>count</th>\n",
       "      <td>1993</td>\n",
       "      <td>1065</td>\n",
       "      <td>164</td>\n",
       "    </tr>\n",
       "  </tbody>\n",
       "</table>\n",
       "</div>"
      ],
      "text/plain": [
       "label     0     2    1\n",
       "count  9304  4970  762\n",
       "count  1994  1065  163\n",
       "count  1993  1065  164"
      ]
     },
     "execution_count": 99,
     "metadata": {},
     "output_type": "execute_result"
    }
   ],
   "source": [
    "pd.DataFrame(\n",
    "    [train['label'].value_counts(),\n",
    "     val['label'].value_counts(),\n",
    "     test['label'].value_counts()]\n",
    ")"
   ]
  },
  {
   "cell_type": "code",
   "execution_count": 100,
   "metadata": {},
   "outputs": [
    {
     "name": "stdout",
     "output_type": "stream",
     "text": [
      "(15036, 5)\n",
      "ihc/ihc_train.csv\n",
      "count    15036.000000\n",
      "mean      7517.500000\n",
      "std       4340.663659\n",
      "min          0.000000\n",
      "25%       3758.750000\n",
      "50%       7517.500000\n",
      "75%      11276.250000\n",
      "max      15035.000000\n",
      "Name: id, dtype: float64\n",
      "(3222, 5)\n",
      "ihc/ihc_val.csv\n",
      "count     3222.00000\n",
      "mean     16646.50000\n",
      "std        930.25561\n",
      "min      15036.00000\n",
      "25%      15841.25000\n",
      "50%      16646.50000\n",
      "75%      17451.75000\n",
      "max      18257.00000\n",
      "Name: id, dtype: float64\n",
      "(3222, 5)\n",
      "ihc/ihc_test.csv\n",
      "count     3222.00000\n",
      "mean     19868.50000\n",
      "std        930.25561\n",
      "min      18258.00000\n",
      "25%      19063.25000\n",
      "50%      19868.50000\n",
      "75%      20673.75000\n",
      "max      21479.00000\n",
      "Name: id, dtype: float64\n"
     ]
    }
   ],
   "source": [
    "start, stop = 0, 0\n",
    "\n",
    "splits = ['train', 'val', 'test']\n",
    "\n",
    "for split in splits:\n",
    "\n",
    "    df = eval(split)\n",
    "    print(df.shape)\n",
    "\n",
    "    stop += df.shape[0]\n",
    "    df['id'] = range(start, stop)\n",
    "    start += df.shape[0]\n",
    "\n",
    "    df['cleaned_text'] = df['text'].apply(clean_text)\n",
    "    df = df[['id', 'text', 'cleaned_text', 'label_name', 'label']]\n",
    "    # df.insert(0, 'id', df.index)\n",
    "    \n",
    "    save_path = f'ihc/ihc_{split}.csv'\n",
    "    print(save_path)\n",
    "\n",
    "    df.to_csv(os.path.join(processed_path, save_path), index=False)\n",
    "    print(df['id'].describe())"
   ]
  },
  {
   "cell_type": "code",
   "execution_count": null,
   "metadata": {},
   "outputs": [],
   "source": []
  }
 ],
 "metadata": {
  "kernelspec": {
   "display_name": "w266",
   "language": "python",
   "name": "python3"
  },
  "language_info": {
   "codemirror_mode": {
    "name": "ipython",
    "version": 3
   },
   "file_extension": ".py",
   "mimetype": "text/x-python",
   "name": "python",
   "nbconvert_exporter": "python",
   "pygments_lexer": "ipython3",
   "version": "3.10.12"
  }
 },
 "nbformat": 4,
 "nbformat_minor": 2
}
