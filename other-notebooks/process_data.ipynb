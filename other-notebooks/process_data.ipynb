{
 "cells": [
  {
   "cell_type": "code",
   "execution_count": 35,
   "metadata": {},
   "outputs": [],
   "source": [
    "import pandas as pd\n",
    "import os\n",
    "import re\n",
    "import emoji\n",
    "\n",
    "raw_path = '../data/raw/'\n",
    "processed_path = '../data/processed'"
   ]
  },
  {
   "cell_type": "code",
   "execution_count": 36,
   "metadata": {},
   "outputs": [],
   "source": [
    "ishate_path = os.path.join(raw_path, 'ishate')"
   ]
  },
  {
   "cell_type": "markdown",
   "metadata": {},
   "source": [
    "## Get ID range and reindex, filtering out non-relevant columns"
   ]
  },
  {
   "cell_type": "code",
   "execution_count": 37,
   "metadata": {},
   "outputs": [],
   "source": [
    "def encode_labels(val):\n",
    "    if val == 'HS':\n",
    "        return 1\n",
    "    elif val == 'Non-HS':\n",
    "        return 0\n",
    "\n",
    "    return pd.NA"
   ]
  },
  {
   "cell_type": "code",
   "execution_count": 38,
   "metadata": {},
   "outputs": [],
   "source": [
    "# remove usernames, urls, tags, and extra whitespace. Cast everything to lowercase\n",
    "def clean_text(text):\n",
    "    cleaned = text\n",
    "    cleaned = re.sub(r'#([^ ]*)', r'\\1', cleaned)\n",
    "    cleaned = re.sub(r'https.*[^ ]', 'URL', cleaned)\n",
    "    cleaned = re.sub(r'http.*[^ ]', 'URL', cleaned)\n",
    "    cleaned = re.sub(r'@([^ ]*)', '@USER', cleaned)\n",
    "    cleaned = emoji.demojize(cleaned)\n",
    "    cleaned = re.sub(r'(:.*?:)', r' \\1 ', cleaned)\n",
    "    cleaned = re.sub(' +', ' ', cleaned)\n",
    "    cleaned = cleaned.lower()\n",
    "\n",
    "    return cleaned"
   ]
  },
  {
   "cell_type": "code",
   "execution_count": null,
   "metadata": {},
   "outputs": [],
   "source": []
  },
  {
   "cell_type": "code",
   "execution_count": null,
   "metadata": {},
   "outputs": [],
   "source": []
  },
  {
   "cell_type": "code",
   "execution_count": 39,
   "metadata": {},
   "outputs": [
    {
     "name": "stdout",
     "output_type": "stream",
     "text": [
      "ishate_train.csv\n",
      "count    20381.000000\n",
      "mean     10190.000000\n",
      "std       5883.632254\n",
      "min          0.000000\n",
      "25%       5095.000000\n",
      "50%      10190.000000\n",
      "75%      15285.000000\n",
      "max      20380.000000\n",
      "Name: id, dtype: float64\n",
      "ishate_val.csv\n",
      "count     4367.000000\n",
      "mean     22564.000000\n",
      "std       1260.788642\n",
      "min      20381.000000\n",
      "25%      21472.500000\n",
      "50%      22564.000000\n",
      "75%      23655.500000\n",
      "max      24747.000000\n",
      "Name: id, dtype: float64\n",
      "ishate_test.csv\n",
      "count     4368.000000\n",
      "mean     26931.500000\n",
      "std       1261.077317\n",
      "min      24748.000000\n",
      "25%      25839.750000\n",
      "50%      26931.500000\n",
      "75%      28023.250000\n",
      "max      29115.000000\n",
      "Name: id, dtype: float64\n"
     ]
    }
   ],
   "source": [
    "start, stop = 0, 0\n",
    "\n",
    "splits = ['train', 'val', 'test']\n",
    "\n",
    "for split in splits:\n",
    "\n",
    "    df_path = os.path.join(ishate_path, f'ishate_{split}.parquet.gzip')\n",
    "    df = pd.read_parquet(df_path)\n",
    "    stop += df.shape[0]\n",
    "    df['id'] = range(start, stop)\n",
    "    df['label_name'] = df['hateful_layer']\n",
    "    df['implicit_label'] = df['implicit_layer']\n",
    "    df['label'] = df['label_name'].apply(encode_labels)\n",
    "    df['cleaned_text'] = df['text'].apply(clean_text)\n",
    "    start += df.shape[0]\n",
    "    df = df[['id', 'text', 'cleaned_text', 'implicit_label', 'label_name', 'label']]\n",
    "    # df.insert(0, 'id', df.index)\n",
    "    \n",
    "    save_path = f'ishate_{split}.csv'\n",
    "    print(save_path)\n",
    "\n",
    "    df.to_csv(os.path.join(processed_path, save_path), index=False)\n",
    "    print(df['id'].describe())"
   ]
  },
  {
   "cell_type": "code",
   "execution_count": null,
   "metadata": {},
   "outputs": [],
   "source": []
  }
 ],
 "metadata": {
  "kernelspec": {
   "display_name": "w266",
   "language": "python",
   "name": "python3"
  },
  "language_info": {
   "codemirror_mode": {
    "name": "ipython",
    "version": 3
   },
   "file_extension": ".py",
   "mimetype": "text/x-python",
   "name": "python",
   "nbconvert_exporter": "python",
   "pygments_lexer": "ipython3",
   "version": "3.10.12"
  }
 },
 "nbformat": 4,
 "nbformat_minor": 2
}
