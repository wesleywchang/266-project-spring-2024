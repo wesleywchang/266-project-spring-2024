{
 "cells": [
  {
   "cell_type": "code",
   "execution_count": 1,
   "metadata": {},
   "outputs": [],
   "source": [
    "import pandas as pd\n",
    "import os\n",
    "\n",
    "raw_path = \"../data/raw/\""
   ]
  },
  {
   "cell_type": "markdown",
   "metadata": {},
   "source": [
    "# Examine training and validation splits"
   ]
  },
  {
   "cell_type": "code",
   "execution_count": 2,
   "metadata": {},
   "outputs": [],
   "source": [
    "ishate_path = os.path.join(raw_path, 'ishate')"
   ]
  },
  {
   "cell_type": "code",
   "execution_count": 3,
   "metadata": {},
   "outputs": [],
   "source": [
    "ishate_train = pd.read_parquet(os.path.join(ishate_path, 'ishate_train.parquet.gzip'))"
   ]
  },
  {
   "cell_type": "code",
   "execution_count": 4,
   "metadata": {},
   "outputs": [
    {
     "data": {
      "text/html": [
       "<div>\n",
       "<style scoped>\n",
       "    .dataframe tbody tr th:only-of-type {\n",
       "        vertical-align: middle;\n",
       "    }\n",
       "\n",
       "    .dataframe tbody tr th {\n",
       "        vertical-align: top;\n",
       "    }\n",
       "\n",
       "    .dataframe thead th {\n",
       "        text-align: right;\n",
       "    }\n",
       "</style>\n",
       "<table border=\"1\" class=\"dataframe\">\n",
       "  <thead>\n",
       "    <tr style=\"text-align: right;\">\n",
       "      <th></th>\n",
       "      <th>message_id</th>\n",
       "      <th>text</th>\n",
       "      <th>source</th>\n",
       "      <th>implicit_layer</th>\n",
       "      <th>subtlety_layer</th>\n",
       "      <th>implicit_props_layer</th>\n",
       "      <th>hateful_layer</th>\n",
       "      <th>hateful_layer_enc</th>\n",
       "      <th>implicit_layer_enc</th>\n",
       "      <th>subtlety_layer_enc</th>\n",
       "      <th>all_enc</th>\n",
       "      <th>all</th>\n",
       "      <th>cleaned_text</th>\n",
       "    </tr>\n",
       "  </thead>\n",
       "  <tbody>\n",
       "    <tr>\n",
       "      <th>0</th>\n",
       "      <td>14430526_4</td>\n",
       "      <td>Another songwriter encouraged many more people...</td>\n",
       "      <td>wsf</td>\n",
       "      <td>None</td>\n",
       "      <td>None</td>\n",
       "      <td>None</td>\n",
       "      <td>Non-HS</td>\n",
       "      <td>0</td>\n",
       "      <td>NaN</td>\n",
       "      <td>NaN</td>\n",
       "      <td>0.0</td>\n",
       "      <td>Non-HS</td>\n",
       "      <td>another songwriter encouraged many more people...</td>\n",
       "    </tr>\n",
       "    <tr>\n",
       "      <th>1</th>\n",
       "      <td>30428464_2</td>\n",
       "      <td>The German men sound so sexy .</td>\n",
       "      <td>wsf</td>\n",
       "      <td>None</td>\n",
       "      <td>None</td>\n",
       "      <td>None</td>\n",
       "      <td>Non-HS</td>\n",
       "      <td>0</td>\n",
       "      <td>NaN</td>\n",
       "      <td>NaN</td>\n",
       "      <td>0.0</td>\n",
       "      <td>Non-HS</td>\n",
       "      <td>the german men sound so sexy .</td>\n",
       "    </tr>\n",
       "    <tr>\n",
       "      <th>2</th>\n",
       "      <td>500</td>\n",
       "      <td>Like a septic tank.</td>\n",
       "      <td>youtube</td>\n",
       "      <td>None</td>\n",
       "      <td>None</td>\n",
       "      <td>None</td>\n",
       "      <td>Non-HS</td>\n",
       "      <td>0</td>\n",
       "      <td>NaN</td>\n",
       "      <td>NaN</td>\n",
       "      <td>0.0</td>\n",
       "      <td>Non-HS</td>\n",
       "      <td>like a septic tank .</td>\n",
       "    </tr>\n",
       "    <tr>\n",
       "      <th>3</th>\n",
       "      <td>1942</td>\n",
       "      <td>UK Pensioner Faces 350 Lashes In Saudi Arabia ...</td>\n",
       "      <td>hateval</td>\n",
       "      <td>None</td>\n",
       "      <td>None</td>\n",
       "      <td>None</td>\n",
       "      <td>Non-HS</td>\n",
       "      <td>0</td>\n",
       "      <td>NaN</td>\n",
       "      <td>NaN</td>\n",
       "      <td>0.0</td>\n",
       "      <td>Non-HS</td>\n",
       "      <td>uk pensioner faces lashes in saudi arabia why ...</td>\n",
       "    </tr>\n",
       "    <tr>\n",
       "      <th>4</th>\n",
       "      <td>645</td>\n",
       "      <td>#Burundi—Nkurunziza’s envoy to the UN now reco...</td>\n",
       "      <td>hateval</td>\n",
       "      <td>None</td>\n",
       "      <td>None</td>\n",
       "      <td>None</td>\n",
       "      <td>Non-HS</td>\n",
       "      <td>0</td>\n",
       "      <td>NaN</td>\n",
       "      <td>NaN</td>\n",
       "      <td>0.0</td>\n",
       "      <td>Non-HS</td>\n",
       "      <td>#burundi  nkurunziza  s envoy to the un now re...</td>\n",
       "    </tr>\n",
       "  </tbody>\n",
       "</table>\n",
       "</div>"
      ],
      "text/plain": [
       "   message_id                                               text   source  \\\n",
       "0  14430526_4  Another songwriter encouraged many more people...      wsf   \n",
       "1  30428464_2                     The German men sound so sexy .      wsf   \n",
       "2         500                                Like a septic tank.  youtube   \n",
       "3        1942  UK Pensioner Faces 350 Lashes In Saudi Arabia ...  hateval   \n",
       "4         645  #Burundi—Nkurunziza’s envoy to the UN now reco...  hateval   \n",
       "\n",
       "  implicit_layer subtlety_layer implicit_props_layer hateful_layer  \\\n",
       "0           None           None                 None        Non-HS   \n",
       "1           None           None                 None        Non-HS   \n",
       "2           None           None                 None        Non-HS   \n",
       "3           None           None                 None        Non-HS   \n",
       "4           None           None                 None        Non-HS   \n",
       "\n",
       "   hateful_layer_enc  implicit_layer_enc  subtlety_layer_enc  all_enc     all  \\\n",
       "0                  0                 NaN                 NaN      0.0  Non-HS   \n",
       "1                  0                 NaN                 NaN      0.0  Non-HS   \n",
       "2                  0                 NaN                 NaN      0.0  Non-HS   \n",
       "3                  0                 NaN                 NaN      0.0  Non-HS   \n",
       "4                  0                 NaN                 NaN      0.0  Non-HS   \n",
       "\n",
       "                                        cleaned_text  \n",
       "0  another songwriter encouraged many more people...  \n",
       "1                     the german men sound so sexy .  \n",
       "2                               like a septic tank .  \n",
       "3  uk pensioner faces lashes in saudi arabia why ...  \n",
       "4  #burundi  nkurunziza  s envoy to the un now re...  "
      ]
     },
     "execution_count": 4,
     "metadata": {},
     "output_type": "execute_result"
    }
   ],
   "source": [
    "ishate_train.head()"
   ]
  },
  {
   "cell_type": "code",
   "execution_count": 7,
   "metadata": {},
   "outputs": [
    {
     "data": {
      "text/plain": [
       "message_id\n",
       "28            12\n",
       "166            9\n",
       "330            9\n",
       "624            9\n",
       "292            9\n",
       "              ..\n",
       "3480.0         1\n",
       "7447           1\n",
       "3475           1\n",
       "6523           1\n",
       "14036056_2     1\n",
       "Name: count, Length: 17358, dtype: int64"
      ]
     },
     "execution_count": 7,
     "metadata": {},
     "output_type": "execute_result"
    }
   ],
   "source": []
  },
  {
   "cell_type": "code",
   "execution_count": 6,
   "metadata": {},
   "outputs": [
    {
     "data": {
      "text/plain": [
       "implicit_layer\n",
       "None           12508\n",
       "Explicit HS     7007\n",
       "Implicit HS      866\n",
       "Name: count, dtype: int64"
      ]
     },
     "execution_count": 6,
     "metadata": {},
     "output_type": "execute_result"
    }
   ],
   "source": [
    "ishate_train['implicit_layer'].value_counts(dropna=False)"
   ]
  },
  {
   "cell_type": "code",
   "execution_count": 8,
   "metadata": {},
   "outputs": [
    {
     "data": {
      "text/plain": [
       "implicit_layer\n",
       "None           2680\n",
       "Explicit HS    1501\n",
       "Implicit HS     186\n",
       "Name: count, dtype: int64"
      ]
     },
     "execution_count": 8,
     "metadata": {},
     "output_type": "execute_result"
    }
   ],
   "source": [
    "pd.read_parquet(os.path.join(ishate_path, 'ishate_val.parquet.gzip'))['implicit_layer'].value_counts(dropna=False)"
   ]
  },
  {
   "cell_type": "markdown",
   "metadata": {},
   "source": [
    "# Don't explicitly view holdout test set for now, just verify distribution"
   ]
  },
  {
   "cell_type": "code",
   "execution_count": 9,
   "metadata": {},
   "outputs": [
    {
     "data": {
      "text/plain": [
       "implicit_layer\n",
       "None           2681\n",
       "Explicit HS    1501\n",
       "Implicit HS     186\n",
       "Name: count, dtype: int64"
      ]
     },
     "execution_count": 9,
     "metadata": {},
     "output_type": "execute_result"
    }
   ],
   "source": [
    "pd.read_parquet(os.path.join(ishate_path, 'ishate_test.parquet.gzip'))['implicit_layer'].value_counts(dropna=False)"
   ]
  },
  {
   "cell_type": "markdown",
   "metadata": {},
   "source": [
    "## Gab Hate Corpus"
   ]
  },
  {
   "cell_type": "code",
   "execution_count": 10,
   "metadata": {},
   "outputs": [],
   "source": [
    "ghc_path = os.path.join(raw_path, 'ghc')"
   ]
  },
  {
   "cell_type": "code",
   "execution_count": 16,
   "metadata": {},
   "outputs": [],
   "source": [
    "ghc_train = pd.read_csv(os.path.join(ghc_path, 'GabHateCorpus_annotations.tsv'), sep='\\t')"
   ]
  },
  {
   "cell_type": "code",
   "execution_count": 18,
   "metadata": {},
   "outputs": [
    {
     "data": {
      "text/plain": [
       "IM\n",
       "NaN    75280\n",
       "0.0     7349\n",
       "1.0     3900\n",
       "Name: count, dtype: int64"
      ]
     },
     "execution_count": 18,
     "metadata": {},
     "output_type": "execute_result"
    }
   ],
   "source": [
    "ghc_train['IM'].value_counts(dropna=False)"
   ]
  }
 ],
 "metadata": {
  "kernelspec": {
   "display_name": "w266",
   "language": "python",
   "name": "python3"
  },
  "language_info": {
   "codemirror_mode": {
    "name": "ipython",
    "version": 3
   },
   "file_extension": ".py",
   "mimetype": "text/x-python",
   "name": "python",
   "nbconvert_exporter": "python",
   "pygments_lexer": "ipython3",
   "version": "3.10.12"
  }
 },
 "nbformat": 4,
 "nbformat_minor": 2
}
